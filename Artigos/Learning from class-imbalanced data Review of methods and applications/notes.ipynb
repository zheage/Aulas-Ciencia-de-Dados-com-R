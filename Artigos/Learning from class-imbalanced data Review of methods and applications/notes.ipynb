{
  "nbformat": 4,
  "nbformat_minor": 0,
  "metadata": {
    "colab": {
      "provenance": [],
      "authorship_tag": "ABX9TyNxqQZvGGUUW5XB1nFUCKHp",
      "include_colab_link": true
    },
    "kernelspec": {
      "name": "python3",
      "display_name": "Python 3"
    },
    "language_info": {
      "name": "python"
    }
  },
  "cells": [
    {
      "cell_type": "markdown",
      "metadata": {
        "id": "view-in-github",
        "colab_type": "text"
      },
      "source": [
        "<a href=\"https://colab.research.google.com/github/zheage/Aulas-Ciencia-de-Dados-com-R/blob/main/Artigos/Learning%20from%20class-imbalanced%20data%20Review%20of%20methods%20and%20applications/notes.ipynb\" target=\"_parent\"><img src=\"https://colab.research.google.com/assets/colab-badge.svg\" alt=\"Open In Colab\"/></a>"
      ]
    },
    {
      "cell_type": "markdown",
      "source": [
        "# 1. Introduction\n",
        "\n",
        "> \"Classificadores comuns como de regressão logística, support vector machine (SVM) e árvores de decisão são projetados para conjuntos de dados balanceados. Quando confrontados com cenários desbalanceados estes tendem a ter resultados de classificação viesados, com o conjunto majoritário recebendo boas previsões, enquanto as do minoritário são distorcidas.\" `\\cite{lane2012developing}`\n",
        "\n",
        "> \"O processo de treinamento guiado por métricas como acurácia induzem um viés para a classe majoritária, enquanto eventos raros continuam desconhecidos, mesmo se o modelo possui um valor alto para a métrica.\" `\\cite{loyola2016study}`"
      ],
      "metadata": {
        "id": "DRnOgpacpqwn"
      }
    }
  ]
}